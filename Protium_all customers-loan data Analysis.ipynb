{
 "cells": [
  {
   "cell_type": "markdown",
   "metadata": {},
   "source": [
    "# PROTIUM_CUSTOMERS_DPD_LOAN HISTORY ANALYSIS PROJECT."
   ]
  },
  {
   "cell_type": "markdown",
   "metadata": {},
   "source": [
    "1.Importing the standard libraries.\n",
    "\n",
    "2.Parsing the xml files for making them into the dataframes as of supporting to the data analysing.\n",
    "\n",
    "3.Making the Percentages of trades done by the customers.\n",
    "\n",
    "4.Calculating the sum of total distributed loans for each customer.\n",
    "\n",
    "5.Finding the Maximum number of months for DPDs.\n",
    "\n",
    "6.Extracting the analysed data into the Excel(xlsx) format."
   ]
  },
  {
   "cell_type": "markdown",
   "metadata": {},
   "source": [
    "# ********// IMPORTING THE LIBRARIES //********"
   ]
  },
  {
   "cell_type": "code",
   "execution_count": 1,
   "metadata": {},
   "outputs": [],
   "source": [
    "import requests\n",
    "import xml.etree.ElementTree as ET\n",
    "import pandas as pd\n",
    "import re"
   ]
  },
  {
   "cell_type": "markdown",
   "metadata": {},
   "source": [
    "# -----------Reading the Data----------"
   ]
  },
  {
   "cell_type": "code",
   "execution_count": 2,
   "metadata": {},
   "outputs": [],
   "source": [
    "#Parse xml tree.\n",
    "\n",
    "tree = ET.parse(r\"C:\\Users\\yuvak\\OneDrive\\Desktop\\Coding_data\\Coding_data\\customer14235_loan14235_crif_report.html.xml\")\n",
    "tree = ET.parse(r\"C:\\Users\\yuvak\\OneDrive\\Desktop\\Coding_data\\Coding_data\\customer16475_loan16475_crif_report.html.xml\")\n",
    "tree = ET.parse(r\"C:\\Users\\yuvak\\OneDrive\\Desktop\\Coding_data\\Coding_data\\customer40409_loan40409_crif_report.html.xml\")\n",
    "tree = ET.parse(r\"C:\\Users\\yuvak\\OneDrive\\Desktop\\Coding_data\\Coding_data\\customer773504_loan774538_crif_report.html.xml\")\n",
    "tree = ET.parse(r\"C:\\Users\\yuvak\\OneDrive\\Desktop\\Coding_data\\Coding_data\\customer787561_loan788638_crif_report.html.xml\")\n",
    "tree = ET.parse(r\"C:\\Users\\yuvak\\OneDrive\\Desktop\\Coding_data\\Coding_data\\customer794397_loan795497_crif_report.html.xml\")\n",
    "tree = ET.parse(r\"C:\\Users\\yuvak\\OneDrive\\Desktop\\Coding_data\\Coding_data\\customer898231_loan899591_crif_report.html.xml\")\n",
    "tree = ET.parse(r\"C:\\Users\\yuvak\\OneDrive\\Desktop\\Coding_data\\Coding_data\\customer1113697_loan1115483_crif_report.html.xml\")\n",
    "tree = ET.parse(r\"C:\\Users\\yuvak\\OneDrive\\Desktop\\Coding_data\\Coding_data\\customer1129550_loan1131339_crif_report.html.xml\")\n",
    "tree = ET.parse(r\"C:\\Users\\yuvak\\OneDrive\\Desktop\\Coding_data\\Coding_data\\customer1195586_loan1197471_crif_report.html.xml\")\n",
    "root = tree.getroot()"
   ]
  },
  {
   "cell_type": "markdown",
   "metadata": {},
   "source": [
    "# ---------Creating Account Type and Combined Payment history---------"
   ]
  },
  {
   "cell_type": "code",
   "execution_count": 3,
   "metadata": {},
   "outputs": [],
   "source": [
    "def CreateDF(root):\n",
    "    \"\"\"\n",
    "    Function that creates DataFrame with Account Type and Combined payment history.\n",
    "    param root: root of tree\n",
    "    var loanDetails: list with Acc Type and payment history for single iter\n",
    "    var trade_paymentHistory:  list of loanDetails for all iter\n",
    "    returns trade_paymentHistory_DF: final dataframe\n",
    "    \"\"\"\n",
    "    \n",
    "    loanDetails = []\n",
    "    trade_paymentHistory = []\n",
    "\n",
    "    for element in root.iter('LOAN-DETAILS'):\n",
    "\n",
    "        trade = element.find('ACCT-TYPE').text\n",
    "        paymentHistory = element.find('COMBINED-PAYMENT-HISTORY').text\n",
    "        loanDetails = [trade, paymentHistory]\n",
    "        trade_paymentHistory.append(loanDetails)\n",
    "\n",
    "    trade_paymentHistory_DF = pd.DataFrame(trade_paymentHistory, columns=['ACCT-TYPE', 'COMBINED-PAYMENT-HISTORY'])\n",
    "\n",
    "    return(trade_paymentHistory_DF)"
   ]
  },
  {
   "cell_type": "markdown",
   "metadata": {},
   "source": [
    "# ----------**..Generating DPD Lists along with 30+DPD..**---------"
   ]
  },
  {
   "cell_type": "code",
   "execution_count": 4,
   "metadata": {},
   "outputs": [],
   "source": [
    "def GenerateDPDList(string):\n",
    "    \"\"\"\n",
    "    Method that takes payment history as parameter and extracts DPD from each month and returns them as list \n",
    "    var regex : generates str between \",\" and \"/\". this is date\n",
    "    returns match: list of all regex\n",
    "    \"\"\"\n",
    "    \n",
    "    regex = '(?<=\\,)(.*?)(?=\\/)'\n",
    "    match = re.findall(regex, string)\n",
    "#print(match, len(match))\n",
    "    \n",
    "    return(match)\n",
    "\n",
    "def FindDPD(lst):\n",
    "    \"\"\"\n",
    "    Method that takes lits from GenerateDPDList and returns list 30+DPD \n",
    "    \"\"\"\n",
    "    l = []\n",
    "    for elm in lst:\n",
    "\n",
    "#ignore strings and 000s. \n",
    "\n",
    "        if elm not in ['DDD', 'XXX', 'STD', '000']:\n",
    "#print(elm).\n",
    "            if int(elm) >30: \n",
    "#check for >30.\n",
    "                l.append(int(elm))\n",
    "    return(l)\n",
    "\n",
    "#a= FindDPD(GenerateDPDList([])).\n",
    "#print(FindDPD(GenerateDPDList([])), len(a))."
   ]
  },
  {
   "cell_type": "markdown",
   "metadata": {},
   "source": [
    "# 1.PERCENTAGE OF TRADES DONE BY CUSTOMERS."
   ]
  },
  {
   "cell_type": "code",
   "execution_count": 5,
   "metadata": {},
   "outputs": [],
   "source": [
    "#1) What percentage of trades are with 30+ DPD (more than 30 days past due) among all the trades available?\n",
    "#df is DataFrame with Account Type and Combined payment history.\n",
    "df = CreateDF(root)\n",
    "\n",
    "#print(df).\n",
    "\n",
    "dpdMonths = []\n",
    "totalMonth = []\n",
    "\n",
    "for i in range(len(df)):\n",
    "    \n",
    "    elm = df.loc[i][1]\n",
    "    if elm is None:\n",
    "        totalMonth.append(0)\n",
    "        dpdMonths.append(0)\n",
    "    \n",
    "    if elm is not None:\n",
    "\n",
    "#print(elm).\n",
    "#t1 is list of dpd for each trades payment history.         \n",
    "        tl = GenerateDPDList(elm)\n",
    "\n",
    "#print(tl, len(tl)).\n",
    "#list of total months for all trades. logic behind this is there will be months equal to all strings between \",\" and \"/\". that is len of list.        \n",
    "        totalMonth.append(len(tl))\n",
    "\n",
    "#list of 30+dpds.       \n",
    "        dpd = FindDPD(tl)\n",
    "\n",
    "#print(dpd, len(dpd)).\n",
    "#list of 30+dpds months.\n",
    "        dpdMonths.append(len(dpd))\n",
    "    \n",
    "df['Total months of Loan tenure'] = totalMonth\n",
    "df['number of dpd occurance'] = dpdMonths\n",
    "\n",
    "#print(df).\n",
    "\n",
    "# summarise no of month data(total months, 30+dpd months) with trade(loan type).\n",
    "DF = df.groupby('ACCT-TYPE').agg({'number of dpd occurance': 'sum', 'Total months of Loan tenure' : 'sum'})\n",
    "\n",
    "#print(DF).\n",
    "DF['Percentage'] = DF['number of dpd occurance']*100/DF['Total months of Loan tenure']"
   ]
  },
  {
   "cell_type": "markdown",
   "metadata": {},
   "source": [
    "# 2.SUM OF TOTAL DISTRUBUTED AMOUNT TO EACH."
   ]
  },
  {
   "cell_type": "code",
   "execution_count": 6,
   "metadata": {},
   "outputs": [
    {
     "name": "stdout",
     "output_type": "stream",
     "text": [
      "8118705\n"
     ]
    }
   ],
   "source": [
    "#2)What is the sum of total disbursed amount for all loans  for each customer?\n",
    "def FindSumOFAllDispersedLoanAmount(root):\n",
    "    \"\"\"\n",
    "    Function takes root of tree as parameter and returns sum of disbursed amount to a customer throught their credit lifecycle.     \n",
    "    \"\"\"\n",
    "    \n",
    "    Sum = 0\n",
    "    for time in root.iter('DISBURSED-AMT'):\n",
    "        Sum += int(time.text.replace(',',''))\n",
    "    return(Sum)\n",
    "\n",
    "#for time in root.iter('SCORE-VALUE'):\n",
    "#print(time.text).\n",
    "\n",
    "#sum of total disbursed amount for all loans  for each customer\n",
    "Sum = FindSumOFAllDispersedLoanAmount(root)\n",
    "print(Sum)"
   ]
  },
  {
   "cell_type": "markdown",
   "metadata": {},
   "source": [
    "# 3.MAXIMUM NUMBER OF MONTHS."
   ]
  },
  {
   "cell_type": "code",
   "execution_count": 7,
   "metadata": {},
   "outputs": [],
   "source": [
    "#3)What is the maximum number of months of 30+ due per trade was there?\n",
    "#According to the Account-type having number of dpd occurances.\n",
    "DF2 = df.groupby('ACCT-TYPE').agg({'number of dpd occurance': 'max'})"
   ]
  },
  {
   "cell_type": "code",
   "execution_count": 8,
   "metadata": {},
   "outputs": [
    {
     "data": {
      "text/html": [
       "<div>\n",
       "<style scoped>\n",
       "    .dataframe tbody tr th:only-of-type {\n",
       "        vertical-align: middle;\n",
       "    }\n",
       "\n",
       "    .dataframe tbody tr th {\n",
       "        vertical-align: top;\n",
       "    }\n",
       "\n",
       "    .dataframe thead th {\n",
       "        text-align: right;\n",
       "    }\n",
       "</style>\n",
       "<table border=\"1\" class=\"dataframe\">\n",
       "  <thead>\n",
       "    <tr style=\"text-align: right;\">\n",
       "      <th></th>\n",
       "      <th>number of dpd occurance</th>\n",
       "      <th>Total months of Loan tenure</th>\n",
       "      <th>Percentage</th>\n",
       "    </tr>\n",
       "    <tr>\n",
       "      <th>ACCT-TYPE</th>\n",
       "      <th></th>\n",
       "      <th></th>\n",
       "      <th></th>\n",
       "    </tr>\n",
       "  </thead>\n",
       "  <tbody>\n",
       "    <tr>\n",
       "      <th>Auto Loan (Personal)</th>\n",
       "      <td>0</td>\n",
       "      <td>11</td>\n",
       "      <td>0.000000</td>\n",
       "    </tr>\n",
       "    <tr>\n",
       "      <th>Credit Card</th>\n",
       "      <td>0</td>\n",
       "      <td>121</td>\n",
       "      <td>0.000000</td>\n",
       "    </tr>\n",
       "    <tr>\n",
       "      <th>Gold Loan</th>\n",
       "      <td>16</td>\n",
       "      <td>138</td>\n",
       "      <td>11.594203</td>\n",
       "    </tr>\n",
       "    <tr>\n",
       "      <th>Housing Loan</th>\n",
       "      <td>0</td>\n",
       "      <td>36</td>\n",
       "      <td>0.000000</td>\n",
       "    </tr>\n",
       "    <tr>\n",
       "      <th>Personal Loan</th>\n",
       "      <td>0</td>\n",
       "      <td>36</td>\n",
       "      <td>0.000000</td>\n",
       "    </tr>\n",
       "  </tbody>\n",
       "</table>\n",
       "</div>"
      ],
      "text/plain": [
       "                      number of dpd occurance  Total months of Loan tenure  \\\n",
       "ACCT-TYPE                                                                    \n",
       "Auto Loan (Personal)                        0                           11   \n",
       "Credit Card                                 0                          121   \n",
       "Gold Loan                                  16                          138   \n",
       "Housing Loan                                0                           36   \n",
       "Personal Loan                               0                           36   \n",
       "\n",
       "                      Percentage  \n",
       "ACCT-TYPE                         \n",
       "Auto Loan (Personal)    0.000000  \n",
       "Credit Card             0.000000  \n",
       "Gold Loan              11.594203  \n",
       "Housing Loan            0.000000  \n",
       "Personal Loan           0.000000  "
      ]
     },
     "execution_count": 8,
     "metadata": {},
     "output_type": "execute_result"
    }
   ],
   "source": [
    "#Resulting data in the dataframe DF.\n",
    "DF"
   ]
  },
  {
   "cell_type": "code",
   "execution_count": 9,
   "metadata": {},
   "outputs": [
    {
     "data": {
      "text/html": [
       "<div>\n",
       "<style scoped>\n",
       "    .dataframe tbody tr th:only-of-type {\n",
       "        vertical-align: middle;\n",
       "    }\n",
       "\n",
       "    .dataframe tbody tr th {\n",
       "        vertical-align: top;\n",
       "    }\n",
       "\n",
       "    .dataframe thead th {\n",
       "        text-align: right;\n",
       "    }\n",
       "</style>\n",
       "<table border=\"1\" class=\"dataframe\">\n",
       "  <thead>\n",
       "    <tr style=\"text-align: right;\">\n",
       "      <th></th>\n",
       "      <th>number of dpd occurance</th>\n",
       "    </tr>\n",
       "    <tr>\n",
       "      <th>ACCT-TYPE</th>\n",
       "      <th></th>\n",
       "    </tr>\n",
       "  </thead>\n",
       "  <tbody>\n",
       "    <tr>\n",
       "      <th>Auto Loan (Personal)</th>\n",
       "      <td>0</td>\n",
       "    </tr>\n",
       "    <tr>\n",
       "      <th>Credit Card</th>\n",
       "      <td>0</td>\n",
       "    </tr>\n",
       "    <tr>\n",
       "      <th>Gold Loan</th>\n",
       "      <td>3</td>\n",
       "    </tr>\n",
       "    <tr>\n",
       "      <th>Housing Loan</th>\n",
       "      <td>0</td>\n",
       "    </tr>\n",
       "    <tr>\n",
       "      <th>Personal Loan</th>\n",
       "      <td>0</td>\n",
       "    </tr>\n",
       "  </tbody>\n",
       "</table>\n",
       "</div>"
      ],
      "text/plain": [
       "                      number of dpd occurance\n",
       "ACCT-TYPE                                    \n",
       "Auto Loan (Personal)                        0\n",
       "Credit Card                                 0\n",
       "Gold Loan                                   3\n",
       "Housing Loan                                0\n",
       "Personal Loan                               0"
      ]
     },
     "execution_count": 9,
     "metadata": {},
     "output_type": "execute_result"
    }
   ],
   "source": [
    "#Resulting data in the dataframe DF2.\n",
    "DF2"
   ]
  },
  {
   "cell_type": "markdown",
   "metadata": {},
   "source": [
    "# CONVERTING THE DATA INTO EXCEL."
   ]
  },
  {
   "cell_type": "code",
   "execution_count": 10,
   "metadata": {},
   "outputs": [],
   "source": [
    "#Converting the data result into the excel .xlsx format. \n",
    "DF.to_excel('DF.xlsx', sheet_name='sheet1', index=False)\n",
    "DF2.to_excel('DF2.xlsx', sheet_name='sheet2', index=False)"
   ]
  },
  {
   "cell_type": "code",
   "execution_count": null,
   "metadata": {},
   "outputs": [],
   "source": []
  }
 ],
 "metadata": {
  "kernelspec": {
   "display_name": "Python 3",
   "language": "python",
   "name": "python3"
  },
  "language_info": {
   "codemirror_mode": {
    "name": "ipython",
    "version": 3
   },
   "file_extension": ".py",
   "mimetype": "text/x-python",
   "name": "python",
   "nbconvert_exporter": "python",
   "pygments_lexer": "ipython3",
   "version": "3.8.5"
  }
 },
 "nbformat": 4,
 "nbformat_minor": 4
}
